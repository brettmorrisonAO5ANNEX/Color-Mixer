{
  "nbformat": 4,
  "nbformat_minor": 0,
  "metadata": {
    "colab": {
      "provenance": [],
      "collapsed_sections": [
        "AV2JEp9R0Oqs",
        "P-1qOQYsSTC2",
        "pqWsdFXfSZPe",
        "RCAnrct6SgUS",
        "ap4h4CVYxJhL",
        "FMNyERtnYenF"
      ]
    },
    "kernelspec": {
      "name": "python3",
      "display_name": "Python 3"
    },
    "language_info": {
      "name": "python"
    }
  },
  "cells": [
    {
      "cell_type": "code",
      "source": [
        "import colorsys\n",
        "import numpy as np\n",
        "import matplotlib.pyplot as plt"
      ],
      "metadata": {
        "id": "1si0lV6MSDoN"
      },
      "execution_count": 2,
      "outputs": []
    },
    {
      "cell_type": "markdown",
      "source": [
        "###Helpers"
      ],
      "metadata": {
        "id": "AV2JEp9R0Oqs"
      }
    },
    {
      "cell_type": "code",
      "source": [
        "def rgb_to_hsv_standard(rgb):\n",
        "    \"\"\"Convert an RGB color (0-255) to standard HSV (H: 0-360, S: 0-1, V: 0-1).\"\"\"\n",
        "    r, g, b = [x / 255.0 for x in rgb]  # Normalize RGB to 0-1 range\n",
        "    h, s, v = colorsys.rgb_to_hsv(r, g, b)  # Convert to HSV (H: 0-1, S: 0-1, V: 0-1)\n",
        "    return h * 360, s, v  # Convert Hue to 0-360° range\n",
        "\n",
        "def hsv_standard_to_rgb(hsv):\n",
        "    \"\"\"Convert standard HSV (H: 0-360, S: 0-1, V: 0-1) to RGB (0-255).\"\"\"\n",
        "    h, s, v = hsv\n",
        "    r, g, b = colorsys.hsv_to_rgb(h / 360, s, v)  # Convert HSV to RGB (0-1 range)\n",
        "    return tuple(int(x * 255) for x in (r, g, b))  # Scale to 0-255 range\n",
        "\n",
        "\n",
        "def display_combined_bar(input_rgb, output_rgb, black, white, pigment, red, yellow, blue):\n",
        "    \"\"\"Display an input color bar, a prime component bar, an output color bar, and a key below.\"\"\"\n",
        "\n",
        "    # Normalize Bk, W, P to sum to 1 for visualization\n",
        "    total_base = black + white + pigment\n",
        "    if total_base == 0:\n",
        "        return \"Invalid base ratios, sum cannot be zero.\"\n",
        "\n",
        "    black /= total_base\n",
        "    white /= total_base\n",
        "    pigment /= total_base  # Space available for RYB\n",
        "\n",
        "    # Normalize R, Y, B within the pigment section\n",
        "    total_pigment = red + yellow + blue\n",
        "    if total_pigment == 0:\n",
        "        red_ratio = yellow_ratio = blue_ratio = 0\n",
        "    else:\n",
        "        red_ratio = (red / total_pigment) * pigment\n",
        "        yellow_ratio = (yellow / total_pigment) * pigment\n",
        "        blue_ratio = (blue / total_pigment) * pigment\n",
        "\n",
        "    # Ensure values are non-negative and sum to 1\n",
        "    sections = np.array([black, white, red_ratio, yellow_ratio, blue_ratio])\n",
        "    sections = np.maximum(sections, 0)  # Remove negatives\n",
        "    sections /= np.sum(sections)  # Normalize to sum to 1\n",
        "\n",
        "    # Labels and colors (same order as sections)\n",
        "    colors = ['black', 'white', 'red', 'yellow', 'blue']\n",
        "    labels = ['Bk', 'W', 'R', 'Y', 'B']\n",
        "\n",
        "    # --- Create Figure and Axes ---\n",
        "    fig, ax = plt.subplots(figsize=(6, 5))  # Adjust figure size for better spacing\n",
        "\n",
        "    # Bar height and spacing\n",
        "    bar_height = 1\n",
        "    spacing = 1.2  # Space between bars\n",
        "\n",
        "    # --- Input Color Bar ---\n",
        "    ax.barh(3 * spacing, 1.0, left=0, color=input_rgb, edgecolor='black', height=bar_height)\n",
        "    ax.text(0.5, 3 * spacing, \"Input Color\", ha='center', va='center', fontsize=12, fontweight='bold', color='black')\n",
        "\n",
        "    # --- Prime Color Components Bar ---\n",
        "    left = 0\n",
        "    for section, color in zip(sections, colors):\n",
        "        if section > 0:\n",
        "            ax.barh(2 * spacing, section, left=left, color=color, edgecolor='black', height=bar_height)\n",
        "            left += section\n",
        "\n",
        "    # --- Output Color Bar ---\n",
        "    ax.barh(1 * spacing, 1.0, left=0, color=output_rgb, edgecolor='black', height=bar_height)\n",
        "    ax.text(0.5, 1 * spacing, \"Output Color\", ha='center', va='center', fontsize=12, fontweight='bold', color='black')\n",
        "\n",
        "    # --- Remove Axes for Clean Look ---\n",
        "    ax.set_xticks([])\n",
        "    ax.set_yticks([])\n",
        "    ax.set_frame_on(False)\n",
        "\n",
        "    # --- Add Key Below ---\n",
        "    fig.subplots_adjust(bottom=0.3)  # Adjust spacing to fit key\n",
        "    key_fig, key_ax = plt.subplots(figsize=(6, 2))\n",
        "\n",
        "    key_ax.set_xlim(0, 1)\n",
        "    key_ax.set_ylim(0, len(labels))\n",
        "\n",
        "    for i, (label, color, value) in enumerate(zip(labels, colors, sections)):\n",
        "        key_ax.add_patch(plt.Rectangle((0.1, len(labels) - i - 1), 0.1, 0.8, facecolor=color, edgecolor='black'))\n",
        "        key_ax.text(0.25, len(labels) - i - 0.6, f\"{label} = {value * 100:.2f}%\", va='center', fontsize=12)\n",
        "\n",
        "    key_ax.set_xticks([])\n",
        "    key_ax.set_yticks([])\n",
        "    key_ax.set_frame_on(False)\n",
        "\n",
        "    plt.show()\n",
        "\n",
        "def ryb_to_rgb(ryb, s, v):\n",
        "  # gather prime rgb from ryb\n",
        "  prime_red = np.array([255, 0, 0])\n",
        "  prime_yellow = np.array([255, 255, 0])\n",
        "  prime_blue = np.array([0, 0, 255])\n",
        "  r, y, b = ryb\n",
        "  prime_color = r*prime_red + y*prime_yellow + b*prime_blue\n",
        "\n",
        "  # convert prime rgb -> prime hsv\n",
        "  prime_h = rgb_to_hsv_standard(prime_color)[0]\n",
        "\n",
        "  # convert converted hsv -> converted rgb\n",
        "  return hsv_standard_to_rgb((prime_h, s, v))\n"
      ],
      "metadata": {
        "id": "Ql0pJq7z6JOi"
      },
      "execution_count": 128,
      "outputs": []
    },
    {
      "cell_type": "markdown",
      "source": [
        "###Algorithm"
      ],
      "metadata": {
        "id": "P-1qOQYsSTC2"
      }
    },
    {
      "cell_type": "markdown",
      "source": [
        "####Step 1: rgb -> hsv"
      ],
      "metadata": {
        "id": "pqWsdFXfSZPe"
      }
    },
    {
      "cell_type": "code",
      "source": [
        "def step_one(rgb):\n",
        "  return rgb_to_hsv_standard(rgb)"
      ],
      "metadata": {
        "id": "VGxwK6keSWZT"
      },
      "execution_count": 108,
      "outputs": []
    },
    {
      "cell_type": "markdown",
      "source": [
        "####Step 2: extract bk, w, p ratios"
      ],
      "metadata": {
        "id": "RCAnrct6SgUS"
      }
    },
    {
      "cell_type": "code",
      "source": [
        "def step_two(hsv):\n",
        "  h, s, v = hsv\n",
        "  bk = 1 - v\n",
        "  w = (1 - s) * v\n",
        "  p = 1 - (bk + w)\n",
        "  return (bk, w, p)"
      ],
      "metadata": {
        "id": "J0lHT7MBxJBV"
      },
      "execution_count": 109,
      "outputs": []
    },
    {
      "cell_type": "markdown",
      "source": [
        "####Step 3: extract r, y, b ratios"
      ],
      "metadata": {
        "id": "ap4h4CVYxJhL"
      }
    },
    {
      "cell_type": "code",
      "source": [
        "def step_three(h):\n",
        "  # fetch prime rgb\n",
        "  prime_r, prime_g, prime_b = hsv_standard_to_rgb((h, 1, 1))\n",
        "\n",
        "  #solve color = x*prime_r + y*prime_y + z*prime_b for [x, y, z]\n",
        "  target_color = np.array([prime_r, prime_g, prime_b])\n",
        "  prime_color_matrix = np.array([[255,   0, 0],\n",
        "                                 [255, 255, 0],\n",
        "                                 [  0, 0, 255]]).T\n",
        "\n",
        "  return np.round(np.linalg.solve(prime_color_matrix, target_color), 2)"
      ],
      "metadata": {
        "id": "Tr64oxJ7xeU6"
      },
      "execution_count": 110,
      "outputs": []
    },
    {
      "cell_type": "markdown",
      "source": [
        "####Full Function"
      ],
      "metadata": {
        "id": "FMNyERtnYenF"
      }
    },
    {
      "cell_type": "code",
      "source": [
        "def extract_color_components(rgb):\n",
        "  original_hsv = step_one(original_rgb)\n",
        "  bk, w, p = step_two(original_hsv)\n",
        "  r, y, b = step_three(original_hsv[0])\n",
        "  output_rgb = ryb_to_rgb((r, y, b), original_hsv[1], original_hsv[2])\n",
        "  display_combined_bar(tuple(channel / 255.0 for channel in original_rgb),\n",
        "                       tuple(channel / 255.0 for channel in output_rgb),\n",
        "                       bk, w, p, r, y, b)"
      ],
      "metadata": {
        "id": "iffSlKMcYpYg"
      },
      "execution_count": 121,
      "outputs": []
    },
    {
      "cell_type": "markdown",
      "source": [
        "###Tests"
      ],
      "metadata": {
        "id": "bLQML3ZT0alw"
      }
    },
    {
      "cell_type": "code",
      "source": [
        "original_rgb = (255, 228, 138)\n",
        "extract_color_components(original_rgb)"
      ],
      "metadata": {
        "colab": {
          "base_uri": "https://localhost:8080/",
          "height": 501
        },
        "id": "sF_eVCx00ZGN",
        "outputId": "4f5c0f76-2898-4868-9d3f-c9e67497473a"
      },
      "execution_count": 130,
      "outputs": [
        {
          "output_type": "display_data",
          "data": {
            "text/plain": [
              "<Figure size 600x500 with 1 Axes>"
            ],
            "image/png": "[encoded data removed]"
          },
          "metadata": {}
        },
        {
          "output_type": "display_data",
          "data": {
            "text/plain": [
              "<Figure size 600x200 with 1 Axes>"
            ],
            "image/png": "[encoded data removed]"
          },
          "metadata": {}
        }
      ]
    }
  ]
}